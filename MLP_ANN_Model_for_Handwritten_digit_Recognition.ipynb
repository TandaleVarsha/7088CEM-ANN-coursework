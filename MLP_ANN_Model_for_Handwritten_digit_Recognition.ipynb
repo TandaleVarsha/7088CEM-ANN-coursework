{
  "nbformat": 4,
  "nbformat_minor": 0,
  "metadata": {
    "colab": {
      "provenance": []
    },
    "kernelspec": {
      "name": "python3",
      "display_name": "Python 3"
    },
    "language_info": {
      "name": "python"
    }
  },
  "cells": [
    {
      "cell_type": "code",
      "execution_count": null,
      "metadata": {
        "id": "QwKzSyXGEC1N"
      },
      "outputs": [],
      "source": [
        "# import necessary libraries\n",
        "import matplotlib.pyplot as plt\n",
        "import numpy as np\n",
        "import tensorflow as tf\n",
        "from tensorflow.keras.datasets import mnist"
      ]
    },
    {
      "cell_type": "code",
      "source": [
        "# Load MNIST DATASET\n",
        "(x_train, y_train) , (x_test, y_test) = mnist.load_data()"
      ],
      "metadata": {
        "id": "IeGdBW2KEZM2"
      },
      "execution_count": null,
      "outputs": []
    },
    {
      "cell_type": "code",
      "source": [
        "#Normalise the data\n",
        "x_train = x_train / 255.0\n",
        "x_test = x_test / 255.0"
      ],
      "metadata": {
        "id": "7B6JPx80FBAl"
      },
      "execution_count": null,
      "outputs": []
    },
    {
      "cell_type": "code",
      "source": [
        "# One-hot encode the labels\n",
        "y_train = keras.utils.to_categorical(y_train, num_classes=10)\n",
        "y_test = keras.utils.to_categorical(y_test, num_classes=10)"
      ],
      "metadata": {
        "id": "7-iygmBfFW1k"
      },
      "execution_count": null,
      "outputs": []
    },
    {
      "cell_type": "code",
      "source": [
        "# Create an MLP model\n",
        "model = tf.keras.Sequential([\n",
        "    tf.keras.layers.Flatten(input_shape=(28, 28)),\n",
        "    tf.keras.layers.Dense(512, activation='relu'),\n",
        "    tf.keras.layers.Dense(256, activation='relu'),\n",
        "    tf.keras.layers.Dense(128, activation='relu'),\n",
        "    tf.keras.layers.Dense(10, activation='softmax')\n",
        "])"
      ],
      "metadata": {
        "id": "RXaOk6NhFYG8"
      },
      "execution_count": null,
      "outputs": []
    },
    {
      "cell_type": "code",
      "source": [
        "# compile the model\n",
        "model.compile(loss='categorical_crossentropy',\n",
        "              optimizer='adam',\n",
        "              metrics=['accuracy'])"
      ],
      "metadata": {
        "id": "uN56-xuIF0rO"
      },
      "execution_count": null,
      "outputs": []
    },
    {
      "cell_type": "code",
      "source": [
        "# Train the model\n",
        "history = model.fit(x_train, y_train,\n",
        "          batch_size=128,\n",
        "          epochs=10,\n",
        "          validation_data=(x_test, y_test))"
      ],
      "metadata": {
        "colab": {
          "base_uri": "https://localhost:8080/"
        },
        "id": "XxHoysGWG_ot",
        "outputId": "213b60df-7fef-46ff-fc26-26b265284d3b"
      },
      "execution_count": null,
      "outputs": [
        {
          "output_type": "stream",
          "name": "stdout",
          "text": [
            "Epoch 1/10\n",
            "469/469 [==============================] - 10s 18ms/step - loss: 0.2311 - accuracy: 0.9315 - val_loss: 0.1001 - val_accuracy: 0.9693\n",
            "Epoch 2/10\n",
            "469/469 [==============================] - 8s 18ms/step - loss: 0.0823 - accuracy: 0.9747 - val_loss: 0.0748 - val_accuracy: 0.9766\n",
            "Epoch 3/10\n",
            "469/469 [==============================] - 7s 16ms/step - loss: 0.0553 - accuracy: 0.9820 - val_loss: 0.0848 - val_accuracy: 0.9754\n",
            "Epoch 4/10\n",
            "469/469 [==============================] - 9s 18ms/step - loss: 0.0412 - accuracy: 0.9872 - val_loss: 0.0764 - val_accuracy: 0.9778\n",
            "Epoch 5/10\n",
            "469/469 [==============================] - 7s 16ms/step - loss: 0.0289 - accuracy: 0.9906 - val_loss: 0.0748 - val_accuracy: 0.9797\n",
            "Epoch 6/10\n",
            "469/469 [==============================] - 9s 19ms/step - loss: 0.0268 - accuracy: 0.9913 - val_loss: 0.0756 - val_accuracy: 0.9791\n",
            "Epoch 7/10\n",
            "469/469 [==============================] - 8s 18ms/step - loss: 0.0215 - accuracy: 0.9927 - val_loss: 0.0960 - val_accuracy: 0.9750\n",
            "Epoch 8/10\n",
            "469/469 [==============================] - 7s 16ms/step - loss: 0.0197 - accuracy: 0.9936 - val_loss: 0.0804 - val_accuracy: 0.9794\n",
            "Epoch 9/10\n",
            "469/469 [==============================] - 8s 18ms/step - loss: 0.0149 - accuracy: 0.9953 - val_loss: 0.0974 - val_accuracy: 0.9766\n",
            "Epoch 10/10\n",
            "469/469 [==============================] - 9s 19ms/step - loss: 0.0147 - accuracy: 0.9949 - val_loss: 0.1057 - val_accuracy: 0.9741\n"
          ]
        }
      ]
    },
    {
      "cell_type": "code",
      "source": [
        "# Evaluate the model on the test set\n",
        "test_loss, test_accuracy = model.evaluate(x_test, y_test)\n",
        "print('Test accuracy:', test_accuracy)"
      ],
      "metadata": {
        "colab": {
          "base_uri": "https://localhost:8080/"
        },
        "id": "abKgw-H-QhwW",
        "outputId": "ca5b6f06-6908-4fb9-99a2-8647259528cc"
      },
      "execution_count": null,
      "outputs": [
        {
          "output_type": "stream",
          "name": "stdout",
          "text": [
            "313/313 [==============================] - 1s 5ms/step - loss: 0.1057 - accuracy: 0.9741\n",
            "Test accuracy: 0.9740999937057495\n"
          ]
        }
      ]
    },
    {
      "cell_type": "code",
      "source": [
        "# Plot Validation and training Accuracy\n",
        "train_acc = history.history['accuracy']\n",
        "val_acc = history.history['val_accuracy']\n",
        "epochs = np.arange(1, 11)\n",
        "plt.plot(epochs, train_acc, label='Training Accuracy')\n",
        "plt.plot(epochs, val_acc, label='Validation Accuracy')\n",
        "plt.xlabel('Epoch')\n",
        "plt.ylabel('Accuracy')\n",
        "plt.legend()\n",
        "plt.show()"
      ],
      "metadata": {
        "colab": {
          "base_uri": "https://localhost:8080/",
          "height": 279
        },
        "id": "Srn3dw3CRxZl",
        "outputId": "62da456b-afac-44d4-8b06-837561241c9f"
      },
      "execution_count": null,
      "outputs": [
        {
          "output_type": "display_data",
          "data": {
            "text/plain": [
              "<Figure size 432x288 with 1 Axes>"
            ],
            "image/png": "[encoded data removed]"
          },
          "metadata": {
            "needs_background": "light"
          }
        }
      ]
    }
  ]
}