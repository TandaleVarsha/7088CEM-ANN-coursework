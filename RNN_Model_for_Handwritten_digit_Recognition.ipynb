{
  "nbformat": 4,
  "nbformat_minor": 0,
  "metadata": {
    "colab": {
      "provenance": []
    },
    "kernelspec": {
      "name": "python3",
      "display_name": "Python 3"
    },
    "language_info": {
      "name": "python"
    }
  },
  "cells": [
    {
      "cell_type": "code",
      "execution_count": 9,
      "metadata": {
        "id": "4h2z3S3Y69kK"
      },
      "outputs": [],
      "source": [
        "# import necessary libraries\n",
        "import matplotlib.pyplot as plt\n",
        "import numpy as np\n",
        "import tensorflow as tf\n",
        "from tensorflow.keras.models import Sequential\n",
        "from tensorflow.keras.layers import Dense, LSTM\n",
        "from tensorflow.keras.datasets import mnist\n",
        "from tensorflow.keras.utils import to_categorical"
      ]
    },
    {
      "cell_type": "code",
      "source": [
        "# Load MNIST dataset\n",
        "(x_train, y_train), (x_test, y_test) = mnist.load_data()"
      ],
      "metadata": {
        "id": "kDcBigL37LPO"
      },
      "execution_count": 10,
      "outputs": []
    },
    {
      "cell_type": "code",
      "source": [
        "#Normalise the data\n",
        "x_train = x_train / 255.0\n",
        "x_test = x_test / 255.0"
      ],
      "metadata": {
        "id": "8saGpVky7NU0"
      },
      "execution_count": 11,
      "outputs": []
    },
    {
      "cell_type": "code",
      "source": [
        "# One-hot encode the labels\n",
        "y_train = to_categorical(y_train, num_classes=10)\n",
        "y_test = to_categorical(y_test, num_classes=10)"
      ],
      "metadata": {
        "id": "QEi3UNYy7Sz9"
      },
      "execution_count": 12,
      "outputs": []
    },
    {
      "cell_type": "code",
      "source": [
        "# Create RNN model\n",
        "model = Sequential()\n",
        "model.add(LSTM(128, input_shape=(28, 28)))\n",
        "model.add(Dense(10, activation='softmax'))"
      ],
      "metadata": {
        "id": "h-tpYQrY7WQs"
      },
      "execution_count": 13,
      "outputs": []
    },
    {
      "cell_type": "code",
      "source": [
        "# Compile model\n",
        "model.compile(loss='categorical_crossentropy', optimizer='adam', metrics=['accuracy'])"
      ],
      "metadata": {
        "id": "b3blhVX28BUe"
      },
      "execution_count": 14,
      "outputs": []
    },
    {
      "cell_type": "code",
      "source": [
        "# Train model\n",
        "history = model.fit(x_train, y_train, epochs=10, batch_size=128, validation_data=(x_test, y_test))"
      ],
      "metadata": {
        "colab": {
          "base_uri": "https://localhost:8080/"
        },
        "id": "nETM-30w8FN8",
        "outputId": "41d0fe68-0009-41b8-ae39-a08bf62071eb"
      },
      "execution_count": 16,
      "outputs": [
        {
          "output_type": "stream",
          "name": "stdout",
          "text": [
            "Epoch 1/10\n",
            "469/469 [==============================] - 41s 87ms/step - loss: 0.1027 - accuracy: 0.9687 - val_loss: 0.0767 - val_accuracy: 0.9751\n",
            "Epoch 2/10\n",
            "469/469 [==============================] - 40s 86ms/step - loss: 0.0782 - accuracy: 0.9765 - val_loss: 0.0919 - val_accuracy: 0.9708\n",
            "Epoch 3/10\n",
            "469/469 [==============================] - 41s 87ms/step - loss: 0.0642 - accuracy: 0.9804 - val_loss: 0.0618 - val_accuracy: 0.9807\n",
            "Epoch 4/10\n",
            "469/469 [==============================] - 43s 93ms/step - loss: 0.0531 - accuracy: 0.9833 - val_loss: 0.0592 - val_accuracy: 0.9806\n",
            "Epoch 5/10\n",
            "469/469 [==============================] - 41s 87ms/step - loss: 0.0455 - accuracy: 0.9859 - val_loss: 0.0574 - val_accuracy: 0.9820\n",
            "Epoch 6/10\n",
            "469/469 [==============================] - 40s 86ms/step - loss: 0.0384 - accuracy: 0.9884 - val_loss: 0.0530 - val_accuracy: 0.9824\n",
            "Epoch 7/10\n",
            "469/469 [==============================] - 42s 90ms/step - loss: 0.0346 - accuracy: 0.9893 - val_loss: 0.0499 - val_accuracy: 0.9840\n",
            "Epoch 8/10\n",
            "469/469 [==============================] - 41s 87ms/step - loss: 0.0301 - accuracy: 0.9905 - val_loss: 0.0451 - val_accuracy: 0.9854\n",
            "Epoch 9/10\n",
            "469/469 [==============================] - 41s 87ms/step - loss: 0.0286 - accuracy: 0.9911 - val_loss: 0.0502 - val_accuracy: 0.9853\n",
            "Epoch 10/10\n",
            "469/469 [==============================] - 48s 103ms/step - loss: 0.0239 - accuracy: 0.9923 - val_loss: 0.0643 - val_accuracy: 0.9793\n"
          ]
        }
      ]
    },
    {
      "cell_type": "code",
      "source": [
        "test_loss, test_acc = model.evaluate(x_test, y_test)\n",
        "print('Test accuracy:', test_acc)"
      ],
      "metadata": {
        "colab": {
          "base_uri": "https://localhost:8080/"
        },
        "id": "7z_iF8I_94G1",
        "outputId": "0b35dbf3-c987-46cd-c9d2-757e21c383ef"
      },
      "execution_count": 17,
      "outputs": [
        {
          "output_type": "stream",
          "name": "stdout",
          "text": [
            "313/313 [==============================] - 6s 18ms/step - loss: 0.0643 - accuracy: 0.9793\n",
            "Test accuracy: 0.9793000221252441\n"
          ]
        }
      ]
    },
    {
      "cell_type": "code",
      "source": [
        "# Plot Validation and training Accuracy\n",
        "train_acc = history.history['accuracy']\n",
        "val_acc = history.history['val_accuracy']\n",
        "epochs = np.arange(1, 11)\n",
        "plt.plot(epochs, train_acc, label='Training Accuracy')\n",
        "plt.plot(epochs, val_acc, label='Validation Accuracy')\n",
        "plt.xlabel('Epoch')\n",
        "plt.ylabel('Accuracy')\n",
        "plt.legend()\n",
        "plt.show()"
      ],
      "metadata": {
        "colab": {
          "base_uri": "https://localhost:8080/",
          "height": 279
        },
        "id": "H6PjV-8R94pu",
        "outputId": "b6acdb3a-b1e4-4638-acdf-63a73b8c2160"
      },
      "execution_count": 18,
      "outputs": [
        {
          "output_type": "display_data",
          "data": {
            "text/plain": [
              "<Figure size 432x288 with 1 Axes>"
            ],
            "image/png": "[encoded data removed]"
          },
          "metadata": {
            "needs_background": "light"
          }
        }
      ]
    }
  ]
}