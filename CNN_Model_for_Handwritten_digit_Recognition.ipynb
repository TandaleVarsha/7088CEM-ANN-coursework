{
  "nbformat": 4,
  "nbformat_minor": 0,
  "metadata": {
    "colab": {
      "provenance": []
    },
    "kernelspec": {
      "name": "python3",
      "display_name": "Python 3"
    },
    "language_info": {
      "name": "python"
    }
  },
  "cells": [
    {
      "cell_type": "code",
      "execution_count": null,
      "metadata": {
        "id": "Bc9IukA1qVXV"
      },
      "outputs": [],
      "source": [
        "# import necessary libraries\n",
        "import matplotlib.pyplot as plt\n",
        "import numpy as np\n",
        "import tensorflow as tf\n",
        "from tensorflow.keras.datasets import mnist"
      ]
    },
    {
      "cell_type": "code",
      "source": [
        "# Load MNIST DATASET\n",
        "(x_train, y_train) , (x_test, y_test) = mnist.load_data()"
      ],
      "metadata": {
        "colab": {
          "base_uri": "https://localhost:8080/"
        },
        "id": "1ah3g1FsqlOs",
        "outputId": "5d0df7d3-d016-4f44-d442-0caff8190f20"
      },
      "execution_count": null,
      "outputs": [
        {
          "output_type": "stream",
          "name": "stdout",
          "text": [
            "Downloading data from https://storage.googleapis.com/tensorflow/tf-keras-datasets/mnist.npz\n",
            "11490434/11490434 [==============================] - 1s 0us/step\n"
          ]
        }
      ]
    },
    {
      "cell_type": "code",
      "source": [
        "#Normalise the data\n",
        "x_train = x_train / 255.0\n",
        "x_test = x_test / 255.0"
      ],
      "metadata": {
        "id": "8oN9ZsoZqnWN"
      },
      "execution_count": null,
      "outputs": []
    },
    {
      "cell_type": "code",
      "source": [
        "# Create the CNN model\n",
        "model = tf.keras.Sequential([\n",
        "    tf.keras.layers.Conv2D(32, (3,3), activation='relu', input_shape=(28,28,1)),\n",
        "    tf.keras.layers.MaxPooling2D((2,2)),\n",
        "    tf.keras.layers.Conv2D(64, (3,3), activation='relu'),\n",
        "    tf.keras.layers.MaxPooling2D((2,2)),\n",
        "    tf.keras.layers.Flatten(),\n",
        "    tf.keras.layers.Dense(128, activation='relu'),\n",
        "    tf.keras.layers.Dropout(0.5),\n",
        "    tf.keras.layers.Dense(10, activation='softmax')\n",
        "])"
      ],
      "metadata": {
        "id": "wZKscauDqrCs"
      },
      "execution_count": null,
      "outputs": []
    },
    {
      "cell_type": "code",
      "source": [
        "# Compile the model\n",
        "model.compile(optimizer='adam', loss='sparse_categorical_crossentropy', metrics=['accuracy'])\n"
      ],
      "metadata": {
        "id": "0h4y4U1XrE1d"
      },
      "execution_count": null,
      "outputs": []
    },
    {
      "cell_type": "code",
      "source": [
        "# Train the model\n",
        "history = model.fit(x_train, y_train, epochs=10, validation_data=(x_test, y_test))"
      ],
      "metadata": {
        "colab": {
          "base_uri": "https://localhost:8080/"
        },
        "id": "gwpf9fYerF-k",
        "outputId": "afa238e0-a0d3-4f92-e285-f0fc254ded85"
      },
      "execution_count": null,
      "outputs": [
        {
          "output_type": "stream",
          "name": "stdout",
          "text": [
            "Epoch 1/10\n",
            "1875/1875 [==============================] - 73s 38ms/step - loss: 0.0185 - accuracy: 0.9941 - val_loss: 0.0291 - val_accuracy: 0.9921\n",
            "Epoch 2/10\n",
            "1875/1875 [==============================] - 68s 36ms/step - loss: 0.0165 - accuracy: 0.9950 - val_loss: 0.0265 - val_accuracy: 0.9924\n",
            "Epoch 3/10\n",
            "1875/1875 [==============================] - 69s 37ms/step - loss: 0.0152 - accuracy: 0.9947 - val_loss: 0.0320 - val_accuracy: 0.9930\n",
            "Epoch 4/10\n",
            "1875/1875 [==============================] - 67s 35ms/step - loss: 0.0139 - accuracy: 0.9952 - val_loss: 0.0348 - val_accuracy: 0.9922\n",
            "Epoch 5/10\n",
            "1875/1875 [==============================] - 66s 35ms/step - loss: 0.0134 - accuracy: 0.9955 - val_loss: 0.0268 - val_accuracy: 0.9925\n",
            "Epoch 6/10\n",
            "1875/1875 [==============================] - 66s 35ms/step - loss: 0.0120 - accuracy: 0.9963 - val_loss: 0.0401 - val_accuracy: 0.9916\n",
            "Epoch 7/10\n",
            "1875/1875 [==============================] - 65s 35ms/step - loss: 0.0112 - accuracy: 0.9962 - val_loss: 0.0298 - val_accuracy: 0.9935\n",
            "Epoch 8/10\n",
            "1875/1875 [==============================] - 67s 36ms/step - loss: 0.0113 - accuracy: 0.9961 - val_loss: 0.0380 - val_accuracy: 0.9925\n",
            "Epoch 9/10\n",
            "1875/1875 [==============================] - 67s 36ms/step - loss: 0.0110 - accuracy: 0.9962 - val_loss: 0.0325 - val_accuracy: 0.9937\n",
            "Epoch 10/10\n",
            "1875/1875 [==============================] - 68s 36ms/step - loss: 0.0097 - accuracy: 0.9967 - val_loss: 0.0328 - val_accuracy: 0.9935\n"
          ]
        }
      ]
    },
    {
      "cell_type": "code",
      "source": [
        "# Evaluate the model\n",
        "test_loss, test_acc = model.evaluate(x_test, y_test)\n",
        "print('Test accuracy:', test_acc)"
      ],
      "metadata": {
        "colab": {
          "base_uri": "https://localhost:8080/"
        },
        "id": "dH_lO3fnuMAd",
        "outputId": "6a980530-5e41-46d6-e208-2f04f7d24d3e"
      },
      "execution_count": null,
      "outputs": [
        {
          "output_type": "stream",
          "name": "stdout",
          "text": [
            "313/313 [==============================] - 3s 10ms/step - loss: 0.0328 - accuracy: 0.9935\n",
            "Test accuracy: 0.9934999942779541\n"
          ]
        }
      ]
    },
    {
      "cell_type": "code",
      "source": [
        "# Plot Validation and training Accuracy\n",
        "train_acc = history.history['accuracy']\n",
        "val_acc = history.history['val_accuracy']\n",
        "epochs = np.arange(1, 11)\n",
        "plt.plot(epochs, train_acc, label='Training Accuracy')\n",
        "plt.plot(epochs, val_acc, label='Validation Accuracy')\n",
        "plt.xlabel('Epoch')\n",
        "plt.ylabel('Accuracy')\n",
        "plt.legend()\n",
        "plt.show()"
      ],
      "metadata": {
        "colab": {
          "base_uri": "https://localhost:8080/",
          "height": 279
        },
        "id": "Vl1hm-ftuU81",
        "outputId": "9d8648df-7ba8-4319-b5f4-e93515caae89"
      },
      "execution_count": null,
      "outputs": [
        {
          "output_type": "display_data",
          "data": {
            "text/plain": [
              "<Figure size 432x288 with 1 Axes>"
            ],
            "image/png": "[encoded data removed]"
          },
          "metadata": {
            "needs_background": "light"
          }
        }
      ]
    }
  ]
}